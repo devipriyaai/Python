{
 "cells": [
  {
   "cell_type": "code",
   "execution_count": 17,
   "id": "95f4a4b8-0d1d-4750-988e-e4efe3f4bce4",
   "metadata": {},
   "outputs": [],
   "source": [
    "# create a class and function, and list out the items in the list"
   ]
  },
  {
   "cell_type": "code",
   "execution_count": 19,
   "id": "2bd647cf-1cb5-4765-9690-3a8d3fe37723",
   "metadata": {},
   "outputs": [],
   "source": [
    "#Difine the list of fields\n",
    "fields=[\"Macine Learning\",\"Neurel Networks\",\"Vision\",\"Robotics\",\"Speech Processing\",\"Natural Laguage Processing\"]"
   ]
  },
  {
   "cell_type": "code",
   "execution_count": 21,
   "id": "6c7daa3b-f59e-47a5-9ea8-07700bc8789f",
   "metadata": {},
   "outputs": [],
   "source": [
    "def subfields(fields):\n",
    "    print(\"Subfields in AIare:\")\n",
    "    for field in fields:\n",
    "        print(field)"
   ]
  },
  {
   "cell_type": "code",
   "execution_count": 23,
   "id": "b14fdafc-1737-40ee-919e-216f75b84a82",
   "metadata": {},
   "outputs": [
    {
     "name": "stdout",
     "output_type": "stream",
     "text": [
      "Subfields in AIare:\n",
      "Macine Learning\n",
      "Neurel Networks\n",
      "Vision\n",
      "Robotics\n",
      "Speech Processing\n",
      "Natural Laguage Processing\n"
     ]
    }
   ],
   "source": [
    "#call the function with fields list\n",
    "subfields(fields)"
   ]
  },
  {
   "cell_type": "code",
   "execution_count": 25,
   "id": "f3012637-b1d2-48eb-bf23-a457fe94f29a",
   "metadata": {},
   "outputs": [],
   "source": [
    "#Create a function that checks whether the given number is Odd or Even"
   ]
  },
  {
   "cell_type": "code",
   "execution_count": 27,
   "id": "18ac3d73-0a27-4bd1-921b-43356f19b2ac",
   "metadata": {},
   "outputs": [],
   "source": [
    "def OddEven():\n",
    "    num=int(input(\"Enter a number:\"))\n",
    "    if ((num%2)==1):\n",
    "        print(f\"{num} is Odd number\")\n",
    "        message=\"Odd number\"\n",
    "    else:\n",
    "        print(f\"{num} is Even number\")\n",
    "        message=\"Even number\"\n",
    "        return message"
   ]
  },
  {
   "cell_type": "code",
   "execution_count": 29,
   "id": "2f889b81-0750-4551-8e3b-21c569d06c07",
   "metadata": {},
   "outputs": [
    {
     "name": "stdin",
     "output_type": "stream",
     "text": [
      "Enter a number: 52452\n"
     ]
    },
    {
     "name": "stdout",
     "output_type": "stream",
     "text": [
      "52452 is Even number\n"
     ]
    },
    {
     "data": {
      "text/plain": [
       "'Even number'"
      ]
     },
     "execution_count": 29,
     "metadata": {},
     "output_type": "execute_result"
    }
   ],
   "source": [
    "OddEven()"
   ]
  },
  {
   "cell_type": "code",
   "execution_count": 31,
   "id": "df15e1db-2fe6-443b-8ea8-41b7ea50cc0d",
   "metadata": {},
   "outputs": [],
   "source": [
    "#Create a function that tells eligibility of marriage for male and female according to their age limit like 21 for male and 18 for female"
   ]
  },
  {
   "cell_type": "code",
   "execution_count": 33,
   "id": "abf708b9-2860-400a-9661-394237496236",
   "metadata": {},
   "outputs": [],
   "source": [
    "def Eligible():\n",
    "    Gender=input(\"Your Gender:\")\n",
    "    age=int(input(\"Your Age:\"))\n",
    "    if(age>=21):\n",
    "        print(\"ELIGIBLE\")\n",
    "        message=\"ELIGIBLE\"\n",
    "    else:\n",
    "        print(\"NOT ELIGIBLE\")\n",
    "        message=\"NOT ELIGIBLE\"\n",
    "        return message\n",
    "            \n",
    "            \n",
    "            \n",
    "    "
   ]
  },
  {
   "cell_type": "code",
   "execution_count": 35,
   "id": "f842a0f0-4aae-4000-a637-366a881f139e",
   "metadata": {},
   "outputs": [
    {
     "name": "stdin",
     "output_type": "stream",
     "text": [
      "Your Gender: male\n",
      "Your Age: 20\n"
     ]
    },
    {
     "name": "stdout",
     "output_type": "stream",
     "text": [
      "NOT ELIGIBLE\n"
     ]
    },
    {
     "data": {
      "text/plain": [
       "'NOT ELIGIBLE'"
      ]
     },
     "execution_count": 35,
     "metadata": {},
     "output_type": "execute_result"
    }
   ],
   "source": [
    " Eligible()"
   ]
  },
  {
   "cell_type": "code",
   "execution_count": 37,
   "id": "acb4aa0b-6501-4133-aad0-ff17ade93d5e",
   "metadata": {},
   "outputs": [],
   "source": [
    "#calculate the percentage of your 10th mark"
   ]
  },
  {
   "cell_type": "code",
   "execution_count": 39,
   "id": "6c184af5-fddf-4e35-aed4-7b1eb34eca4d",
   "metadata": {},
   "outputs": [],
   "source": [
    "def percentage():\n",
    "    s1=int(input(\"Subject1:\"))\n",
    "    s2=int(input(\"Subject2:\"))\n",
    "    s3=int(input(\"Subject3:\"))\n",
    "    s4=int(input(\"Subject4:\"))\n",
    "    s5=int(input(\"Subject5:\"))\n",
    "    total=s1+s2+s3+s4+s5\n",
    "    percentage=(total/500)*100\n",
    "    print(\"Total:\",total)\n",
    "    print(\"Percentage:\",percentage)"
   ]
  },
  {
   "cell_type": "code",
   "execution_count": 41,
   "id": "f4ef2d5d-7860-424c-886a-58021c456e4c",
   "metadata": {},
   "outputs": [
    {
     "name": "stdin",
     "output_type": "stream",
     "text": [
      "Subject1: 98\n",
      "Subject2: 87\n",
      "Subject3: 95\n",
      "Subject4: 95\n",
      "Subject5: 93\n"
     ]
    },
    {
     "name": "stdout",
     "output_type": "stream",
     "text": [
      "Total: 468\n",
      "Percentage: 93.60000000000001\n"
     ]
    }
   ],
   "source": [
    "percentage()"
   ]
  },
  {
   "cell_type": "code",
   "execution_count": 43,
   "id": "6007c68d-b7b1-465b-9d63-fa399bee5b3b",
   "metadata": {},
   "outputs": [],
   "source": [
    "# print area and perimeter of triangle using class and functions"
   ]
  },
  {
   "cell_type": "code",
   "execution_count": 13,
   "id": "a8d48577-90fb-4638-ab52-ce908ffcc8ce",
   "metadata": {},
   "outputs": [],
   "source": [
    "def triangle():\n",
    "    a1=int(input(\"Height:\"))\n",
    "    b1=int(input(\"Breadth:\"))\n",
    "    Areaformula=\"(Height*Breadth)/2\"\n",
    "    Area=(a1*b1)/2\n",
    "    print(\"Area formula:\",Areaformula)\n",
    "    print(\"Area of Traingle:\",Area)\n",
    "    a2=int(input(\"Height1:\"))\n",
    "    b2=int(input(\"Height2:\"))\n",
    "    c=int(input(\"Breadth:\"))\n",
    "    Perimeterformula=\"Height1+Height2+Breadth\"\n",
    "    perimeter=a2+b2+c\n",
    "    print(\"Perimeterformula:\",Perimeterformula)\n",
    "    print(\"Permeter of Traingle:\",perimeter)\n",
    "          \n",
    "    "
   ]
  },
  {
   "cell_type": "code",
   "execution_count": 15,
   "id": "9619ee57-7cd5-4ba0-927a-72866e9dad59",
   "metadata": {},
   "outputs": [
    {
     "name": "stdin",
     "output_type": "stream",
     "text": [
      "Height: 32\n",
      "Breadth: 34\n"
     ]
    },
    {
     "name": "stdout",
     "output_type": "stream",
     "text": [
      "Area formula: (Height*Breadth)/2\n",
      "Area of Traingle: 544.0\n"
     ]
    },
    {
     "name": "stdin",
     "output_type": "stream",
     "text": [
      "Height1: 2\n",
      "Height2: 4\n",
      "Breadth: 4\n"
     ]
    },
    {
     "name": "stdout",
     "output_type": "stream",
     "text": [
      "Perimeterformula: Height1+Height2+Breadth\n",
      "Permeter of Traingle: 10\n"
     ]
    }
   ],
   "source": [
    "triangle()"
   ]
  },
  {
   "cell_type": "code",
   "execution_count": null,
   "id": "70425298-9673-40c8-9178-c83ed2825901",
   "metadata": {},
   "outputs": [],
   "source": []
  },
  {
   "cell_type": "code",
   "execution_count": null,
   "id": "506eb53a-9eb6-4c6f-8a2c-8cdc0aeac619",
   "metadata": {},
   "outputs": [],
   "source": []
  },
  {
   "cell_type": "code",
   "execution_count": null,
   "id": "9cf514d1-f8b6-4a5d-a2d3-4bcd8f3ed2d2",
   "metadata": {},
   "outputs": [],
   "source": []
  }
 ],
 "metadata": {
  "kernelspec": {
   "display_name": "Python [conda env:base] *",
   "language": "python",
   "name": "conda-base-py"
  },
  "language_info": {
   "codemirror_mode": {
    "name": "ipython",
    "version": 3
   },
   "file_extension": ".py",
   "mimetype": "text/x-python",
   "name": "python",
   "nbconvert_exporter": "python",
   "pygments_lexer": "ipython3",
   "version": "3.12.7"
  }
 },
 "nbformat": 4,
 "nbformat_minor": 5
}
