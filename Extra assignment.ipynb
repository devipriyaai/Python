{
 "cells": [
  {
   "cell_type": "markdown",
   "id": "bcc4672e-4783-4dea-a0b4-eddd6c9dbda8",
   "metadata": {},
   "source": [
    "### print statement"
   ]
  },
  {
   "cell_type": "code",
   "execution_count": 1,
   "id": "c32593cf-4787-471f-866a-c99105a94b52",
   "metadata": {},
   "outputs": [
    {
     "name": "stdout",
     "output_type": "stream",
     "text": [
      "HOPE AI\n"
     ]
    }
   ],
   "source": [
    "print(\"HOPE AI\")"
   ]
  },
  {
   "cell_type": "code",
   "execution_count": 3,
   "id": "d97bd702-a59c-45d2-85f5-5ec4a0adfaca",
   "metadata": {},
   "outputs": [],
   "source": [
    "#Buy inputs"
   ]
  },
  {
   "cell_type": "code",
   "execution_count": 5,
   "id": "a1c864f4-5544-4071-a82e-2625416909e0",
   "metadata": {},
   "outputs": [
    {
     "name": "stdin",
     "output_type": "stream",
     "text": [
      "Enter the institutename: HOPE AI\n"
     ]
    }
   ],
   "source": [
    "institutename=(input(\"Enter the institutename:\"))"
   ]
  },
  {
   "cell_type": "code",
   "execution_count": null,
   "id": "4ea6c371-5270-4426-8997-cc20d6b50213",
   "metadata": {},
   "outputs": [],
   "source": [
    "#Buy inputs"
   ]
  },
  {
   "cell_type": "code",
   "execution_count": 7,
   "id": "9b0c36cb-e7e6-4652-8ff9-9b59960feba3",
   "metadata": {},
   "outputs": [
    {
     "name": "stdin",
     "output_type": "stream",
     "text": [
      "Enter the name: Raj\n",
      "Enter the age: 15\n",
      "Enter the name: Guru school\n",
      "Enter the degree B.E CSE\n"
     ]
    }
   ],
   "source": [
    "NAME=(input(\"Enter the name:\"))\n",
    "age=int(input(\"Enter the age:\"))\n",
    "schoolname=(input(\"Enter the name:\"))\n",
    "degree=(input(\"Enter the degree\"))\n",
    "\n"
   ]
  },
  {
   "cell_type": "code",
   "execution_count": 9,
   "id": "b2c600cd-b8a4-4522-896b-e08b2044928b",
   "metadata": {},
   "outputs": [],
   "source": [
    "#Addition"
   ]
  },
  {
   "cell_type": "code",
   "execution_count": 11,
   "id": "593cf94b-f53d-476c-8fe8-5cc422e49de0",
   "metadata": {},
   "outputs": [
    {
     "name": "stdout",
     "output_type": "stream",
     "text": [
      "The addition of two numbers\n",
      "a: 43\n",
      "b: 34\n",
      "add 77\n"
     ]
    }
   ],
   "source": [
    "print(\"The addition of two numbers\")\n",
    "a=43\n",
    "print(\"a:\",a)\n",
    "b=34\n",
    "print(\"b:\",b)\n",
    "add=a+b\n",
    "print(\"add\",add)"
   ]
  },
  {
   "cell_type": "code",
   "execution_count": 13,
   "id": "231aa3f3-85ff-4b51-985d-dee03a100e45",
   "metadata": {},
   "outputs": [],
   "source": [
    "#Subraction"
   ]
  },
  {
   "cell_type": "code",
   "execution_count": 15,
   "id": "01181f53-8904-48b8-8bd1-e874a395fa4f",
   "metadata": {},
   "outputs": [
    {
     "name": "stdout",
     "output_type": "stream",
     "text": [
      "The subracrtion of two numbers\n",
      "a: 43\n",
      "b: 34\n",
      "sub: 9\n"
     ]
    }
   ],
   "source": [
    "print(\"The subracrtion of two numbers\")\n",
    "a=43\n",
    "print(\"a:\",a)\n",
    "b=34\n",
    "print(\"b:\",b)\n",
    "sub=a-b\n",
    "print(\"sub:\",sub)"
   ]
  },
  {
   "cell_type": "code",
   "execution_count": 17,
   "id": "50f1037d-501a-45ac-bdd1-ee8759b490ea",
   "metadata": {},
   "outputs": [],
   "source": [
    "#Multipilication"
   ]
  },
  {
   "cell_type": "code",
   "execution_count": 19,
   "id": "3343175d-f315-42d7-9845-ffe21616ff9f",
   "metadata": {},
   "outputs": [
    {
     "name": "stdout",
     "output_type": "stream",
     "text": [
      "The multipilicationof two numbres\n",
      "a: 63\n",
      "b: 97\n",
      "mul: 6111\n"
     ]
    }
   ],
   "source": [
    "print(\"The multipilicationof two numbres\")\n",
    "a=63\n",
    "print(\"a:\",a)\n",
    "b=97\n",
    "print(\"b:\",b)\n",
    "mul=a*b\n",
    "print(\"mul:\",mul)"
   ]
  },
  {
   "cell_type": "code",
   "execution_count": 21,
   "id": "27b39669-1f03-4781-a1c7-1c2b9117817a",
   "metadata": {},
   "outputs": [],
   "source": [
    "#Divition"
   ]
  },
  {
   "cell_type": "code",
   "execution_count": 23,
   "id": "c564257e-5f5a-4e33-b6f1-6ef401a7294a",
   "metadata": {},
   "outputs": [
    {
     "name": "stdout",
     "output_type": "stream",
     "text": [
      "The divition of two numbers\n",
      "a: 76\n",
      "b: 31\n",
      "Floatdiv: 2.4516129032258065\n"
     ]
    }
   ],
   "source": [
    "print(\"The divition of two numbers\")\n",
    "a=76\n",
    "print(\"a:\",a)\n",
    "b=31\n",
    "print(\"b:\",b)\n",
    "Floatdiv=a/b\n",
    "print(\"Floatdiv:\",Floatdiv)"
   ]
  },
  {
   "cell_type": "code",
   "execution_count": 25,
   "id": "77ebafc3-7f4c-4a3e-ba1c-880c78de62b4",
   "metadata": {},
   "outputs": [],
   "source": [
    "#Floor division"
   ]
  },
  {
   "cell_type": "code",
   "execution_count": 27,
   "id": "39281bd0-4892-43b3-8a5b-87196a821e8a",
   "metadata": {},
   "outputs": [
    {
     "name": "stdout",
     "output_type": "stream",
     "text": [
      "The divition of two numbers\n",
      "a: 76\n",
      "b: 31\n",
      "Floordiv: 2\n"
     ]
    }
   ],
   "source": [
    "print(\"The divition of two numbers\")\n",
    "a=76\n",
    "print(\"a:\",a)\n",
    "b=31\n",
    "print(\"b:\",b)\n",
    "Floordiv=a//b\n",
    "print(\"Floordiv:\",Floordiv)"
   ]
  },
  {
   "cell_type": "code",
   "execution_count": 29,
   "id": "10a27b12-0804-44d3-98b5-dabc61450851",
   "metadata": {},
   "outputs": [],
   "source": [
    "#Modulo"
   ]
  },
  {
   "cell_type": "code",
   "execution_count": 31,
   "id": "0810d809-9d53-4791-adbe-8d537220b3c9",
   "metadata": {},
   "outputs": [
    {
     "name": "stdout",
     "output_type": "stream",
     "text": [
      "The percentage of two numbers\n",
      "a: 76\n",
      "b: 31\n",
      "modulo: 14\n"
     ]
    }
   ],
   "source": [
    "print(\"The percentage of two numbers\")\n",
    "a=76\n",
    "print(\"a:\",a)\n",
    "b=31\n",
    "print(\"b:\",b)\n",
    "modulo=14\n",
    "print(\"modulo:\",modulo)"
   ]
  },
  {
   "cell_type": "code",
   "execution_count": 33,
   "id": "179b97fd-dda9-4177-a419-ef6cd1457883",
   "metadata": {},
   "outputs": [],
   "source": [
    "#Power"
   ]
  },
  {
   "cell_type": "code",
   "execution_count": 35,
   "id": "9df00d21-7cf1-4994-b117-5139b6d6384e",
   "metadata": {},
   "outputs": [
    {
     "name": "stdout",
     "output_type": "stream",
     "text": [
      "The power of two numbers\n",
      "a: 4\n",
      "b: 4\n",
      "power: 256\n"
     ]
    }
   ],
   "source": [
    "print(\"The power of two numbers\")\n",
    "a=4\n",
    "print(\"a:\",a)\n",
    "b=4\n",
    "print(\"b:\",b)\n",
    "power= 256\n",
    "print(\"power:\",power)\n",
    "      "
   ]
  },
  {
   "cell_type": "code",
   "execution_count": null,
   "id": "fe8e1458-ecec-4e15-a5a3-571749543a9c",
   "metadata": {},
   "outputs": [],
   "source": []
  }
 ],
 "metadata": {
  "kernelspec": {
   "display_name": "Python [conda env:base] *",
   "language": "python",
   "name": "conda-base-py"
  },
  "language_info": {
   "codemirror_mode": {
    "name": "ipython",
    "version": 3
   },
   "file_extension": ".py",
   "mimetype": "text/x-python",
   "name": "python",
   "nbconvert_exporter": "python",
   "pygments_lexer": "ipython3",
   "version": "3.12.7"
  }
 },
 "nbformat": 4,
 "nbformat_minor": 5
}
