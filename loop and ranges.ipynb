{
 "cells": [
  {
   "cell_type": "code",
   "execution_count": 1,
   "id": "90cc6f18-73de-44ba-80a0-e1a55b1b8f1d",
   "metadata": {},
   "outputs": [],
   "source": [
    "#print 0 to 20 by using range"
   ]
  },
  {
   "cell_type": "code",
   "execution_count": 3,
   "id": "4afe8d56-d415-44bb-98c5-e1ec24df4563",
   "metadata": {},
   "outputs": [
    {
     "name": "stdout",
     "output_type": "stream",
     "text": [
      "0\n",
      "1\n",
      "2\n",
      "3\n",
      "4\n",
      "5\n",
      "6\n",
      "7\n",
      "8\n",
      "9\n",
      "10\n",
      "11\n",
      "12\n",
      "13\n",
      "14\n",
      "15\n",
      "16\n",
      "17\n",
      "18\n",
      "19\n"
     ]
    }
   ],
   "source": [
    "for num in range(0,20):\n",
    "    print(num)"
   ]
  },
  {
   "cell_type": "code",
   "execution_count": 5,
   "id": "f2cf7acc-7368-4632-9cef-dc1f4e938638",
   "metadata": {},
   "outputs": [
    {
     "name": "stdout",
     "output_type": "stream",
     "text": [
      "10 11 12 13 14 15 16 17 18 19 "
     ]
    }
   ],
   "source": [
    "#print range 10 to 20\n",
    "\n",
    "for num in range(10,20):\n",
    "    print(num,end=\" \")"
   ]
  },
  {
   "cell_type": "code",
   "execution_count": 7,
   "id": "33eebc29-543e-4a42-ac0a-a5eaf9b74d1a",
   "metadata": {},
   "outputs": [],
   "source": [
    "#print number of items in the list by using 'len'"
   ]
  },
  {
   "cell_type": "code",
   "execution_count": 15,
   "id": "1178370d-d834-4f62-aed0-a670b9ea1fbc",
   "metadata": {},
   "outputs": [
    {
     "name": "stdout",
     "output_type": "stream",
     "text": [
      "[10, 20, 14, 55, 43, 87, 76]\n",
      "Number of item in the List: 7\n"
     ]
    }
   ],
   "source": [
    "list=[10,20,14,55,43,87,76]\n",
    "print(list)\n",
    "print(\"Number of item in the List:\",len(list))\n",
    "\n"
   ]
  },
  {
   "cell_type": "code",
   "execution_count": 17,
   "id": "ebe62a26-03fc-43a3-9255-11e4e9352520",
   "metadata": {},
   "outputs": [],
   "source": [
    "#Artificial Intelligence"
   ]
  },
  {
   "cell_type": "code",
   "execution_count": 63,
   "id": "eb8b719a-d2a2-45ed-8a61-e16f2bffc7fd",
   "metadata": {},
   "outputs": [
    {
     "name": "stdout",
     "output_type": "stream",
     "text": [
      "Artificial intelligence\n",
      "A\n",
      "r\n",
      "t\n",
      "i\n",
      "f\n",
      "i\n",
      "c\n",
      "i\n",
      "a\n",
      "l\n",
      " \n",
      "i\n",
      "n\n",
      "t\n",
      "e\n",
      "l\n",
      "l\n",
      "i\n",
      "g\n",
      "e\n",
      "n\n",
      "c\n",
      "e\n"
     ]
    }
   ],
   "source": [
    "text=\"Artificial intelligence\"\n",
    "print(text)\n",
    "for char in text:\n",
    "    print(char)\n"
   ]
  },
  {
   "cell_type": "code",
   "execution_count": 67,
   "id": "ff3b1c95-711e-4fba-a603-47de2f0d81a8",
   "metadata": {},
   "outputs": [
    {
     "name": "stdout",
     "output_type": "stream",
     "text": [
      "Your Name\n",
      "Your Age\n",
      "Your Proffession\n"
     ]
    }
   ],
   "source": [
    "print(\"Your Name\")\n",
    "print(\"Your Age\")\n",
    "print(\"Your Proffession\")\n"
   ]
  },
  {
   "cell_type": "code",
   "execution_count": 73,
   "id": "504ac7c6-ba11-4a09-85d2-13965dad3a79",
   "metadata": {},
   "outputs": [],
   "source": [
    "#tup"
   ]
  },
  {
   "cell_type": "code",
   "execution_count": 77,
   "id": "9f34960d-c6e3-4430-815f-f7f4fdda9a16",
   "metadata": {},
   "outputs": [
    {
     "name": "stdout",
     "output_type": "stream",
     "text": [
      "(1, 'Welcome', 2, 'Hope')\n"
     ]
    }
   ],
   "source": [
    "tup=(1,'Welcome',2,'Hope')\n",
    "print(tup)\n",
    "\n"
   ]
  },
  {
   "cell_type": "code",
   "execution_count": 3,
   "id": "b224afbb-815f-40da-b99e-06a86d58a83e",
   "metadata": {},
   "outputs": [
    {
     "name": "stdout",
     "output_type": "stream",
     "text": [
      "((0, 1, 2, 3), ('python', 'HOPE'))\n"
     ]
    }
   ],
   "source": [
    "tuple1=(0,1,2,3)\n",
    "tuple2=('python','HOPE')\n",
    "tuple3=(tuple1,tuple2)\n",
    "print(tuple3)\n"
   ]
  },
  {
   "cell_type": "code",
   "execution_count": 77,
   "id": "db067d06-1b45-47eb-9b76-ee754c933627",
   "metadata": {},
   "outputs": [],
   "source": [
    "#print odd numbers in the list"
   ]
  },
  {
   "cell_type": "code",
   "execution_count": 139,
   "id": "e83dcb92-0c3b-407b-9314-61f11315d017",
   "metadata": {},
   "outputs": [
    {
     "name": "stdout",
     "output_type": "stream",
     "text": [
      "[20, 10, 16, 19, 25, 1, 276, 188]\n",
      "19is Odd\n",
      "25is Odd\n",
      "1is Odd\n"
     ]
    }
   ],
   "source": [
    "numbers=[20,10,16,19,25,1,276,188]\n",
    "print(numbers)\n",
    "for num in numbers:\n",
    "    if num % 2 !=0:\n",
    "        print(f\"{num}is Odd\")"
   ]
  },
  {
   "cell_type": "code",
   "execution_count": 127,
   "id": "cd1ac1fa-1975-4ef3-9abd-e34d53e946e6",
   "metadata": {},
   "outputs": [],
   "source": [
    "#print Even numbers in the list"
   ]
  },
  {
   "cell_type": "code",
   "execution_count": 141,
   "id": "3d78ed22-0155-44ee-b47f-500709d67a63",
   "metadata": {},
   "outputs": [
    {
     "name": "stdout",
     "output_type": "stream",
     "text": [
      "[20, 10, 16, 19, 25, 1, 276, 188]\n",
      "20is Even\n",
      "10is Even\n",
      "16is Even\n",
      "276is Even\n",
      "188is Even\n"
     ]
    }
   ],
   "source": [
    "numbers=[20,10,16,19,25,1,276,188]\n",
    "print(numbers)\n",
    "for num in numbers:\n",
    "    if num %2==0:\n",
    "        print(f\"{num}is Even\")"
   ]
  },
  {
   "cell_type": "code",
   "execution_count": null,
   "id": "240deabe-889d-4b1c-bec6-455d62ba7d37",
   "metadata": {},
   "outputs": [],
   "source": []
  }
 ],
 "metadata": {
  "kernelspec": {
   "display_name": "Python [conda env:base] *",
   "language": "python",
   "name": "conda-base-py"
  },
  "language_info": {
   "codemirror_mode": {
    "name": "ipython",
    "version": 3
   },
   "file_extension": ".py",
   "mimetype": "text/x-python",
   "name": "python",
   "nbconvert_exporter": "python",
   "pygments_lexer": "ipython3",
   "version": "3.12.7"
  }
 },
 "nbformat": 4,
 "nbformat_minor": 5
}
