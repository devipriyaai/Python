{
 "cells": [
  {
   "cell_type": "code",
   "execution_count": 5,
   "id": "747fb637-a7bd-42e6-ad4b-b64271d8b36e",
   "metadata": {},
   "outputs": [],
   "source": [
    "from multipleFunction import multiplefunction"
   ]
  },
  {
   "cell_type": "code",
   "execution_count": 9,
   "id": "0092aa6f-9dd4-4e1c-8586-7e8b7b940dc2",
   "metadata": {},
   "outputs": [
    {
     "name": "stdout",
     "output_type": "stream",
     "text": [
      "Subfields inAIare:\n",
      "Macine Learning\n",
      "Neurel Networks\n",
      "Vision\n",
      "Robotics\n",
      "Speech Processing\n",
      "Natural Laguage Processing\n"
     ]
    }
   ],
   "source": [
    "multiplefunction.subfields([])"
   ]
  },
  {
   "cell_type": "code",
   "execution_count": 11,
   "id": "3f8f03d3-0db2-455e-8d28-e85c7e42ac39",
   "metadata": {},
   "outputs": [
    {
     "name": "stdin",
     "output_type": "stream",
     "text": [
      "Enter a number: 52452\n"
     ]
    },
    {
     "name": "stdout",
     "output_type": "stream",
     "text": [
      "52452 is Even number\n"
     ]
    }
   ],
   "source": [
    "multiplefunction.oddeven()"
   ]
  },
  {
   "cell_type": "code",
   "execution_count": 13,
   "id": "cd9d1abf-b0dc-43f6-b8d1-524580630573",
   "metadata": {},
   "outputs": [
    {
     "name": "stdin",
     "output_type": "stream",
     "text": [
      "Your Gender: Male\n",
      "Your Age: 20\n"
     ]
    },
    {
     "name": "stdout",
     "output_type": "stream",
     "text": [
      "NOT ELIGIBLE\n"
     ]
    }
   ],
   "source": [
    "multiplefunction.Eligible()"
   ]
  },
  {
   "cell_type": "code",
   "execution_count": 15,
   "id": "ab8d6091-1414-4f01-bd7a-08cb3fef4efa",
   "metadata": {},
   "outputs": [
    {
     "name": "stdin",
     "output_type": "stream",
     "text": [
      "Subject1: 98\n",
      "Subject2: 87\n",
      "Subject3: 95\n",
      "Subject4: 95\n",
      "Subject5: 93\n"
     ]
    },
    {
     "name": "stdout",
     "output_type": "stream",
     "text": [
      "Total: 468\n",
      "Percentage: 93.60000000000001\n"
     ]
    }
   ],
   "source": [
    "multiplefunction.percentage()"
   ]
  },
  {
   "cell_type": "code",
   "execution_count": 17,
   "id": "6ef30291-6689-44b7-98b8-f550e794aa5b",
   "metadata": {},
   "outputs": [
    {
     "name": "stdin",
     "output_type": "stream",
     "text": [
      "Height: 32\n",
      "Breadth: 34\n"
     ]
    },
    {
     "name": "stdout",
     "output_type": "stream",
     "text": [
      "Area formula: (Height*Breadth)/2\n",
      "Area of Traingle: 544.0\n"
     ]
    },
    {
     "name": "stdin",
     "output_type": "stream",
     "text": [
      "Height1: 2\n",
      "Height2: 4\n",
      "Breadth: 4\n"
     ]
    },
    {
     "name": "stdout",
     "output_type": "stream",
     "text": [
      "Perimeterformula: Height1+Height2+Breadth\n",
      "Permeter of Traingle: 10\n"
     ]
    }
   ],
   "source": [
    "multiplefunction.triangle()"
   ]
  },
  {
   "cell_type": "code",
   "execution_count": null,
   "id": "1b3266db-b669-4886-8fc2-345569f25b0d",
   "metadata": {},
   "outputs": [],
   "source": []
  }
 ],
 "metadata": {
  "kernelspec": {
   "display_name": "Python [conda env:base] *",
   "language": "python",
   "name": "conda-base-py"
  },
  "language_info": {
   "codemirror_mode": {
    "name": "ipython",
    "version": 3
   },
   "file_extension": ".py",
   "mimetype": "text/x-python",
   "name": "python",
   "nbconvert_exporter": "python",
   "pygments_lexer": "ipython3",
   "version": "3.12.7"
  }
 },
 "nbformat": 4,
 "nbformat_minor": 5
}
