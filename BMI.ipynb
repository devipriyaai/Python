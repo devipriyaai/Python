{
 "cells": [
  {
   "cell_type": "code",
   "execution_count": null,
   "id": "9746adc5-3070-4273-a542-8518242c2dfb",
   "metadata": {},
   "outputs": [],
   "source": [
    "#Body mass index"
   ]
  },
  {
   "cell_type": "code",
   "execution_count": null,
   "id": "d50f6cf3-f116-4e0d-92f0-f3b5c637fe53",
   "metadata": {},
   "outputs": [],
   "source": []
  },
  {
   "cell_type": "code",
   "execution_count": null,
   "id": "a5129399-8f01-4969-b55c-c254ca106012",
   "metadata": {},
   "outputs": [],
   "source": []
  },
  {
   "cell_type": "code",
   "execution_count": 6,
   "id": "5f1532a6-1b63-4bf1-adac-dc83fbb9340c",
   "metadata": {},
   "outputs": [
    {
     "name": "stdin",
     "output_type": "stream",
     "text": [
      "Enter the weight 34\n"
     ]
    }
   ],
   "source": [
    "weight=int(input(\"Enter the weight\"))"
   ]
  },
  {
   "cell_type": "code",
   "execution_count": 16,
   "id": "0a7305bb-8d0a-426c-9103-126373e61f11",
   "metadata": {},
   "outputs": [
    {
     "name": "stdout",
     "output_type": "stream",
     "text": [
      "very over weight\n"
     ]
    }
   ],
   "source": [
    "if(weight<18):\n",
    "    print(\"under weight\")\n",
    "elif(weight<24):\n",
    "     print(\"Normal\")\n",
    "elif(weight<29):\n",
    "    print(\"over weight\")\n",
    "else:\n",
    "     print(\"very over weight\")\n",
    "    \n",
    "    \n",
    "    \n",
    "    "
   ]
  },
  {
   "cell_type": "code",
   "execution_count": null,
   "id": "968f5406-c1d4-4913-9997-94af599e4533",
   "metadata": {},
   "outputs": [],
   "source": []
  }
 ],
 "metadata": {
  "kernelspec": {
   "display_name": "Python [conda env:base] *",
   "language": "python",
   "name": "conda-base-py"
  },
  "language_info": {
   "codemirror_mode": {
    "name": "ipython",
    "version": 3
   },
   "file_extension": ".py",
   "mimetype": "text/x-python",
   "name": "python",
   "nbconvert_exporter": "python",
   "pygments_lexer": "ipython3",
   "version": "3.12.7"
  }
 },
 "nbformat": 4,
 "nbformat_minor": 5
}
