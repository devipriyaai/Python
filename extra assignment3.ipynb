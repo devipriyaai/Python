{
 "cells": [
  {
   "cell_type": "code",
   "execution_count": 1,
   "id": "8adabff5-1ebf-49ff-a8c2-765522c36ca0",
   "metadata": {},
   "outputs": [],
   "source": [
    "#print 'correct' if i==10"
   ]
  },
  {
   "cell_type": "code",
   "execution_count": 5,
   "id": "6333df39-bdf3-4c63-9482-b35cd7cb21d9",
   "metadata": {},
   "outputs": [
    {
     "name": "stdout",
     "output_type": "stream",
     "text": [
      "value:10\n",
      "correct\n"
     ]
    }
   ],
   "source": [
    "print(\"value:10\")\n",
    "print(\"correct\")"
   ]
  },
  {
   "cell_type": "code",
   "execution_count": 7,
   "id": "ad2417a3-418a-4a28-8698-a1747d7eadc9",
   "metadata": {},
   "outputs": [],
   "source": [
    "#Check the password, using ifand else"
   ]
  },
  {
   "cell_type": "code",
   "execution_count": 15,
   "id": "98956c05-8ec6-4ade-9c0f-5911722e5f5f",
   "metadata": {},
   "outputs": [
    {
     "name": "stdin",
     "output_type": "stream",
     "text": [
      "Enter the password: HOPE@123\n"
     ]
    },
    {
     "name": "stdout",
     "output_type": "stream",
     "text": [
      "your password is correct\n"
     ]
    }
   ],
   "source": [
    "#if else\n",
    "password=(input(\"Enter the password:\"))\n",
    "if(password):\n",
    "    print(\"your password is correct\")\n",
    "    "
   ]
  },
  {
   "cell_type": "code",
   "execution_count": 17,
   "id": "023c3c30-212d-4909-b669-5bf73c69d98a",
   "metadata": {},
   "outputs": [],
   "source": [
    "#Catagory the peple by their age like children,adult,citizen,senior citizen"
   ]
  },
  {
   "cell_type": "code",
   "execution_count": 1,
   "id": "685cb5b3-ba89-413f-b0b5-b859381d8757",
   "metadata": {},
   "outputs": [
    {
     "name": "stdin",
     "output_type": "stream",
     "text": [
      " age: 20\n"
     ]
    },
    {
     "name": "stdout",
     "output_type": "stream",
     "text": [
      "Adult\n"
     ]
    }
   ],
   "source": [
    "age=int(input(\" age:\",))\n",
    "if(age):\n",
    "    print(\"Adult\")\n",
    "        "
   ]
  },
  {
   "cell_type": "code",
   "execution_count": 3,
   "id": "ada52890-0176-4adf-ab05-1340e84c156e",
   "metadata": {},
   "outputs": [],
   "source": [
    "#Fnid whether given number is positive or negative"
   ]
  },
  {
   "cell_type": "code",
   "execution_count": 11,
   "id": "1bea36cb-dfaa-4943-8fae-dffeca13bad9",
   "metadata": {},
   "outputs": [
    {
     "name": "stdin",
     "output_type": "stream",
     "text": [
      "Enter any number: 1\n"
     ]
    },
    {
     "name": "stdout",
     "output_type": "stream",
     "text": [
      "No is positive\n"
     ]
    }
   ],
   "source": [
    "num=int(input(\"Enter any number:\"))\n",
    "    \n",
    "if (num>0):\n",
    "    print(\"No is positive\")"
   ]
  },
  {
   "cell_type": "code",
   "execution_count": 13,
   "id": "29a86698-27d6-4f20-96b0-8c3f16aaa0bf",
   "metadata": {},
   "outputs": [],
   "source": [
    "#check whether the given number is divisibleby 5"
   ]
  },
  {
   "cell_type": "code",
   "execution_count": 73,
   "id": "a3cebd5e-b03a-412f-9d3d-274b08ed7c6c",
   "metadata": {},
   "outputs": [
    {
     "name": "stdin",
     "output_type": "stream",
     "text": [
      "Enter a number to check: 22\n"
     ]
    },
    {
     "name": "stdout",
     "output_type": "stream",
     "text": [
      "No is not divisible by 5\n"
     ]
    }
   ],
   "source": [
    "num=int(input(\"Enter a number to check:\"))\n",
    "if num==5:\n",
    "    print(\"No is divisible by 5\")\n",
    "else:\n",
    "    print(\"No is not divisible by 5\")"
   ]
  },
  {
   "cell_type": "code",
   "execution_count": null,
   "id": "b09b6b91-40fb-4c15-826d-7b8ba37a86c2",
   "metadata": {},
   "outputs": [],
   "source": []
  }
 ],
 "metadata": {
  "kernelspec": {
   "display_name": "Python [conda env:base] *",
   "language": "python",
   "name": "conda-base-py"
  },
  "language_info": {
   "codemirror_mode": {
    "name": "ipython",
    "version": 3
   },
   "file_extension": ".py",
   "mimetype": "text/x-python",
   "name": "python",
   "nbconvert_exporter": "python",
   "pygments_lexer": "ipython3",
   "version": "3.12.7"
  }
 },
 "nbformat": 4,
 "nbformat_minor": 5
}
